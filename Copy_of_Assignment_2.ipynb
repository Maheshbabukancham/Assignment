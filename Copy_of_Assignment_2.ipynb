{
  "nbformat": 4,
  "nbformat_minor": 0,
  "metadata": {
    "colab": {
      "private_outputs": true,
      "provenance": [],
      "include_colab_link": true
    },
    "kernelspec": {
      "name": "python3",
      "display_name": "Python 3"
    },
    "language_info": {
      "name": "python"
    }
  },
  "cells": [
    {
      "cell_type": "markdown",
      "metadata": {
        "id": "view-in-github",
        "colab_type": "text"
      },
      "source": [
        "<a href=\"https://colab.research.google.com/github/Maheshbabukancham/Assignment/blob/main/Copy_of_Assignment_2.ipynb\" target=\"_parent\"><img src=\"https://colab.research.google.com/assets/colab-badge.svg\" alt=\"Open In Colab\"/></a>"
      ]
    },
    {
      "cell_type": "code",
      "source": [
        "#creating empty use below step\n",
        "set1={()}"
      ],
      "metadata": {
        "id": "1-9xBTL2jrmQ"
      },
      "execution_count": null,
      "outputs": []
    },
    {
      "cell_type": "code",
      "source": [
        "type(set1)"
      ],
      "metadata": {
        "id": "-zayTk-njxD-"
      },
      "execution_count": null,
      "outputs": []
    },
    {
      "cell_type": "code",
      "source": [
        "set2={5,6,7,6,7,8,9,3,9,3,1}"
      ],
      "metadata": {
        "id": "2Tq6DVg5jybj"
      },
      "execution_count": null,
      "outputs": []
    },
    {
      "cell_type": "code",
      "source": [
        "set2"
      ],
      "metadata": {
        "id": "JGHIX3AMkBTa"
      },
      "execution_count": null,
      "outputs": []
    },
    {
      "cell_type": "code",
      "source": [
        "set3={5,2,3,4,9,5,3,7,9,4,1,True}"
      ],
      "metadata": {
        "id": "MQv9kK4BkE72"
      },
      "execution_count": null,
      "outputs": []
    },
    {
      "cell_type": "code",
      "source": [
        "set3"
      ],
      "metadata": {
        "id": "1FXoEIpmkcdP"
      },
      "execution_count": null,
      "outputs": []
    },
    {
      "cell_type": "code",
      "source": [
        "set4={9,4,5,9,4,2,1,\"t\",1.0,6,True,1+2j}"
      ],
      "metadata": {
        "id": "bTMQBCWWkdOl"
      },
      "execution_count": null,
      "outputs": []
    },
    {
      "cell_type": "code",
      "source": [
        "set5=set4.copy()"
      ],
      "metadata": {
        "id": "lamGFbGWmE7V"
      },
      "execution_count": null,
      "outputs": []
    },
    {
      "cell_type": "code",
      "source": [
        "set5"
      ],
      "metadata": {
        "id": "gNgGEMipmXwZ"
      },
      "execution_count": null,
      "outputs": []
    },
    {
      "cell_type": "code",
      "source": [
        "DIFFERENCE_VALUE=set3.difference(set4)"
      ],
      "metadata": {
        "id": "uZJ_0sswmpy7"
      },
      "execution_count": null,
      "outputs": []
    },
    {
      "cell_type": "code",
      "source": [
        "DIFFERENCE_VALUE"
      ],
      "metadata": {
        "id": "Y-UY-sNZm3qh"
      },
      "execution_count": null,
      "outputs": []
    },
    {
      "cell_type": "code",
      "source": [
        "intersection_set= set3.intersection(set4)"
      ],
      "metadata": {
        "id": "lDntNvivoLrM"
      },
      "execution_count": null,
      "outputs": []
    },
    {
      "cell_type": "code",
      "source": [
        "intersection_set"
      ],
      "metadata": {
        "id": "rktkreyAoKct"
      },
      "execution_count": null,
      "outputs": []
    },
    {
      "cell_type": "code",
      "source": [
        "set3.isdisjoint(set4)"
      ],
      "metadata": {
        "id": "ubxiFdJ7qA9v"
      },
      "execution_count": null,
      "outputs": []
    },
    {
      "cell_type": "code",
      "source": [
        "boolian_value=set4.issubset(set3)"
      ],
      "metadata": {
        "id": "MCc0cOhPrE0G"
      },
      "execution_count": null,
      "outputs": []
    },
    {
      "cell_type": "code",
      "source": [
        "boolian_value"
      ],
      "metadata": {
        "id": "U7kvCVyerMTH"
      },
      "execution_count": null,
      "outputs": []
    },
    {
      "cell_type": "code",
      "source": [
        "value = set3.issuperset(set4)"
      ],
      "metadata": {
        "id": "QqpFAxxYrNMN"
      },
      "execution_count": null,
      "outputs": []
    },
    {
      "cell_type": "code",
      "source": [
        "value"
      ],
      "metadata": {
        "id": "e3OmqdSDroVc"
      },
      "execution_count": null,
      "outputs": []
    },
    {
      "cell_type": "code",
      "source": [
        "union_vale =set3.union(set4)"
      ],
      "metadata": {
        "id": "a0gz9TlOtShh"
      },
      "execution_count": null,
      "outputs": []
    },
    {
      "cell_type": "code",
      "source": [
        "union_vale"
      ],
      "metadata": {
        "id": "GhlFovPtOi_h"
      },
      "execution_count": null,
      "outputs": []
    },
    {
      "cell_type": "code",
      "source": [
        "symmetric_values=set3.symmetric_difference(set4)"
      ],
      "metadata": {
        "id": "fbZbNUfCtZJz"
      },
      "execution_count": null,
      "outputs": []
    },
    {
      "cell_type": "code",
      "source": [
        "symmetric_values"
      ],
      "metadata": {
        "id": "PjWW5QoqtpwN"
      },
      "execution_count": null,
      "outputs": []
    }
  ]
}