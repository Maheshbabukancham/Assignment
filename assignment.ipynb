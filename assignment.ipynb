list1=[1,2,3,4]
res_list = []

for value in list1:
  res_list.append(value*value)
print(res_list)



output: [1, 4, 9, 16]
